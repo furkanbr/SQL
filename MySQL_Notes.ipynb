{
 "cells": [
  {
   "attachments": {},
   "cell_type": "markdown",
   "metadata": {},
   "source": [
    "This Nobebook file contains my notes from MySQL course that I complated at freecodecamp\n",
    "\n",
    "### Creating Table"
   ]
  },
  {
   "cell_type": "code",
   "execution_count": null,
   "metadata": {},
   "outputs": [],
   "source": [
    "CREATE TABLE student (\n",
    "    student_id INT PRIMARY KEY,\n",
    "    name VARCHAR(20),\n",
    "    major VARCHAR(20)\n",
    ");\n",
    "\n",
    "DROP TABLE student;\n",
    "\n",
    "DESCRIBE student;\n",
    "\n",
    "ALTER TABLE student ADD gpa INT;\n",
    "ALTER TABLE student MODIFY gpa DECIMAL(3, 2);\n",
    "\n",
    "ALTER TABLE student DROP gpa;\n",
    "\n"
   ]
  },
  {
   "attachments": {},
   "cell_type": "markdown",
   "metadata": {},
   "source": [
    "### Inserting Values"
   ]
  },
  {
   "cell_type": "code",
   "execution_count": null,
   "metadata": {},
   "outputs": [],
   "source": [
    "INSERT INTO student VALUES(2, 'Kate', 'Sociolagy', 1.23);\n",
    "\n",
    "INSERT INTO student(student_id, name) VALUES(3, 'Claire');"
   ]
  },
  {
   "attachments": {},
   "cell_type": "markdown",
   "metadata": {},
   "source": [
    "### Constrains"
   ]
  },
  {
   "cell_type": "code",
   "execution_count": null,
   "metadata": {},
   "outputs": [],
   "source": [
    "DROP TABLE student;\n",
    "\n",
    "CREATE TABLE student(\n",
    "    student_id INT PRIMARY KEY AUTO_INCREMENT,\n",
    "    name VARCHAR(20) UNIQUE NOT NULL,\n",
    "    major VARCHAR(20) DEFAULT 'Undecided',\n",
    "    gpa DECIMAL(3, 2)\n",
    ");\n",
    "\n",
    "SELECT * FROM student;\n",
    "\n",
    "INSERT INTO student(name, major, gpa) VALUES('Jack', 'Biology', 3.42);\n",
    "INSERT INTO student(name, major, gpa) VALUES('Claire', 'Sociology', 1.12);\n",
    "INSERT INTO student(name, major, gpa) VALUES('Valeria', 'Sport', 1.4);\n",
    "INSERT INTO student(name, major, gpa) VALUES('Mike', 'Computer Science', 3.81);\n",
    "INSERT INTO student(name, major, gpa) VALUES('Ali', 'Mechanical Engineer', 3.21);\n",
    "INSERT INTO student(name, major, gpa) VALUES('Jack', 'Biology', 3.42);\n",
    "INSERT INTO student(name, major, gpa) VALUES('Rose', NULL, 1.21);\n",
    "INSERT INTO student(name, gpa) VALUES('May', 2.1);"
   ]
  },
  {
   "attachments": {},
   "cell_type": "markdown",
   "metadata": {},
   "source": [
    "### Update and Delete"
   ]
  },
  {
   "cell_type": "code",
   "execution_count": null,
   "metadata": {},
   "outputs": [],
   "source": [
    "UPDATE student\n",
    "SET major = 'Bio'\n",
    "WHERE major = 'Biology';\n",
    "\n",
    " UPDATE student \n",
    " SET major = 'Bullshit'\n",
    " WHERE  major = 'Sociology' OR major = 'Sport';\n",
    "\n",
    " DELETE FROM student\n",
    " WHERE student_id = 7;"
   ]
  },
  {
   "attachments": {},
   "cell_type": "markdown",
   "metadata": {},
   "source": [
    "### Basic Queries"
   ]
  },
  {
   "cell_type": "code",
   "execution_count": null,
   "metadata": {},
   "outputs": [],
   "source": [
    "SELECT name\n",
    "FROM student;\n",
    "\n",
    "SELECT student.name, student.major\n",
    "From student \n",
    "ORDER BY student_id DESC; \n",
    "\n",
    "SELECT student.major\n",
    "FROM student\n",
    "LIMIT 2;\n",
    "\n",
    "SELECT student.name, student.major\n",
    "FROM student\n",
    "WHERE major = 'Bullshit';\n",
    "\n",
    "SELECT *\n",
    "FROM student\n",
    "WHERE name IN ('Claire', 'Jack', 'Mike');\n",
    "\n",
    "SELECT *\n",
    "FROM student\n",
    "WHERE  3.5 > gpa AND gpa > 3;"
   ]
  },
  {
   "attachments": {},
   "cell_type": "markdown",
   "metadata": {},
   "source": [
    "### Company Database"
   ]
  },
  {
   "cell_type": "code",
   "execution_count": null,
   "metadata": {},
   "outputs": [],
   "source": [
    "CREATE TABLE employee(\n",
    "    emp_id INT PRIMARY KEY,\n",
    "    first_name VARCHAR(20),\n",
    "    last_name VARCHAR(20),\n",
    "    birth_date DATE,\n",
    "    sex VARCHAR(1),\n",
    "    salary INT,\n",
    "    super_id INT,\n",
    "    branch_id INT  \n",
    ");\n",
    "\n",
    "CREATE TABLE branch(\n",
    "    branch_id INT PRIMARY KEY,\n",
    "    branch_name VARCHAR(50),\n",
    "    mgr_id INT,\n",
    "    mgr_start_date DATE,\n",
    "    FOREIGN KEY(mgr_id) REFERENCES employee(emp_id) ON DELETE SET NULL\n",
    ");\n",
    "\n",
    "ALTER TABLE employee\n",
    "ADD FOREIGN KEY(branch_id)\n",
    "REFERENCES branch(branch_id)\n",
    "ON DELETE SET NULL;\n",
    "\n",
    "ALTER TABLE employee\n",
    "ADD FOREIGN KEY(super_id)\n",
    "REFERENCES employee(emp_id)\n",
    "ON DELETE SET NULL;\n",
    "\n",
    "CREATE TABLE client(\n",
    "    client_id INT PRIMARY KEY,\n",
    "    client_name VARCHAR(50),\n",
    "    branch_id INT,\n",
    "    FOREIGN KEY(branch_id) REFERENCES branch(branch_id) ON DELETE SET NULL\n",
    ");\n",
    "\n",
    "CREATE TABLE works_with(\n",
    "    emp_id INT,\n",
    "    client_id INT,\n",
    "    total_sales INT,\n",
    "    PRIMARY KEY(emp_id, client_id),\n",
    "    FOREIGN KEY(client_id) REFERENCES client(client_id) ON DELETE CASCADE,\n",
    "    FOREIGN KEY(emp_id) REFERENCES employee(emp_id) ON DELETE CASCADE\n",
    ");\n",
    "\n",
    "CREATE TABLE branch_supplier(\n",
    "    branch_id INT,\n",
    "    supplier_name VARCHAR(50),\n",
    "    supply_type VARCHAR(50),\n",
    "    PRIMARY KEY(branch_id, supplier_name),\n",
    "    FOREIGN KEY(branch_id) REFERENCES branch(branch_id) ON DELETE CASCADE\n",
    ");\n",
    "\n",
    "-- Inserting values to tables is a little different because of foreign keys\n",
    "\n",
    "INSERT employee VALUES(106, 'Josh', 'Porter', '1969-05-06', 'M', 78000, 101, NULL);\n",
    "\n",
    "INSERT branch VALUES(3, 'Stamford', 106, '1998-04-06');\n",
    "\n",
    "UPDATE employee\n",
    "SET branch_id = 3\n",
    "WHERE emp_id = 106;\n",
    "\n",
    "INSERT employee VALUES(108, 'Jim', 'Halpert', '1978-04-19', 'M', 71000, 106, 3);\n",
    "\n",
    "\n",
    "INSERT INTO branch_supplier VALUES(2, 'Hammer Mill', 'Paper');\n",
    "INSERT INTO branch_supplier VALUES(2, 'Uni-ball', 'Writing Utensils');\n",
    "INSERT INTO branch_supplier VALUES(3, 'Patriot Paper', 'Paper');\n",
    "INSERT INTO branch_supplier VALUES(2, 'J.T. Forms & Labels', 'Custom Forms');\n",
    "INSERT INTO branch_supplier VALUES(3, 'Uni-ball', 'Writing Utensils');\n",
    "INSERT INTO branch_supplier VALUES(3, 'Hammer Mill', 'Paper');\n",
    "INSERT INTO branch_supplier VALUES(3, 'Stamford Lables', 'Custom Forms');\n",
    "\n",
    "INSERT INTO client VALUES(400, 'Dunmore Highschool', 2);\n",
    "INSERT INTO client VALUES(401, 'Lackawana Country', 2);\n",
    "INSERT INTO client VALUES(402, 'FedEx', 3);\n",
    "INSERT INTO client VALUES(403, 'John Daly Law, LLC', 3);\n",
    "INSERT INTO client VALUES(404, 'Scranton Whitepages', 2);\n",
    "INSERT INTO client VALUES(405, 'Times Newspaper', 3);\n",
    "INSERT INTO client VALUES(406, 'FedEx', 2);\n",
    "\n",
    "INSERT INTO works_with VALUES(105, 400, 55000);\n",
    "INSERT INTO works_with VALUES(102, 401, 267000);\n",
    "INSERT INTO works_with VALUES(108, 402, 22500);\n",
    "INSERT INTO works_with VALUES(107, 403, 5000);\n",
    "INSERT INTO works_with VALUES(108, 403, 12000);\n",
    "INSERT INTO works_with VALUES(105, 404, 33000);\n",
    "INSERT INTO works_with VALUES(107, 405, 26000);\n",
    "INSERT INTO works_with VALUES(102, 406, 15000);\n",
    "INSERT INTO works_with VALUES(105, 406, 130000);"
   ]
  },
  {
   "attachments": {},
   "cell_type": "markdown",
   "metadata": {},
   "source": [
    "### More Basic Queries"
   ]
  },
  {
   "cell_type": "code",
   "execution_count": null,
   "metadata": {},
   "outputs": [],
   "source": [
    "-- Find all employees\n",
    "\n",
    "SELECT * FROM employee;\n",
    "\n",
    "-- Find all employees ordered by salary\n",
    "\n",
    "SELECT * FROM employee ORDER BY sex, employee.salary;\n",
    "\n",
    "-- First 5 employees on the table\n",
    "\n",
    "SELECT * FROM employee LIMIT 5;\n",
    "\n",
    "-- Only first and last name\n",
    "\n",
    "SELECT  first_name, last_name FROM employee;\n",
    "\n",
    "-- Changing column name while selecting\n",
    "\n",
    "SELECT first_name AS forename, last_name AS surname FROM employee;\n",
    "\n",
    "-- Find out all the different genders, return all of unique values in that column.\n",
    "\n",
    "SELECT DISTINCT sex FROM employee;"
   ]
  },
  {
   "attachments": {},
   "cell_type": "markdown",
   "metadata": {},
   "source": [
    "### Wildcards"
   ]
  },
  {
   "cell_type": "code",
   "execution_count": null,
   "metadata": {},
   "outputs": [],
   "source": [
    "-- Find all LLC (Limited Liability Company) 's in clients\n",
    "-- 'LIKE' is something like search method, '%' is for any number of character and\n",
    "-- '_' for just one character\n",
    "SELECT * FROM client WHERE client_name LIKE '%LLC';\n",
    "\n",
    "-- Find any employee who born in October\n",
    "\n",
    "SELECT * FROM employee WHERE birth_date LIKE '%11%';"
   ]
  },
  {
   "attachments": {},
   "cell_type": "markdown",
   "metadata": {},
   "source": [
    "### Unions "
   ]
  },
  {
   "cell_type": "code",
   "execution_count": null,
   "metadata": {},
   "outputs": [],
   "source": [
    "-- Find list of all clients and branc suppliers in a single list\n",
    "\n",
    "SELECT client_name FROM client\n",
    "UNION\n",
    "SELECT supplier_name FROM branch_supplier;\n",
    "\n",
    "-- Union is basically combining results from multiple ques to single result.\n",
    "-- Ofcourse there is some limitations, datatype should be simlar and result must have \n",
    "-- euqual amount of columns\n",
    "\n",
    "-- Find all the money that company earned or spended\n",
    "\n",
    "SELECT salary FROM employee\n",
    "UNION\n",
    "SELECT total_sales FROM works_with;"
   ]
  },
  {
   "attachments": {},
   "cell_type": "markdown",
   "metadata": {},
   "source": [
    "### Joins"
   ]
  },
  {
   "cell_type": "code",
   "execution_count": null,
   "metadata": {},
   "outputs": [],
   "source": [
    "-- Find all branches and their managers \n",
    "\n",
    "SELECT branch.branch_id, branch.branch_name, employee.first_name \n",
    "FROM employee JOIN branch\n",
    "ON branch.mgr_id = employee.emp_id;\n",
    "-- Basicaly combining two different table that fits to our condition which is 'ON'\n",
    "\n",
    "SELECT branch.branch_id, branch.branch_name, employee.first_name \n",
    "FROM employee LEFT JOIN branch\n",
    "ON branch.mgr_id = employee.emp_id;\n",
    "-- 'LEFT' statement getting all values from 'left' table (which is employee) to result table,\n",
    "-- but getting only values that fit to our 'ON' statement from 'right' table.\n",
    "-- There is also 'RIGHT' statement\n"
   ]
  },
  {
   "attachments": {},
   "cell_type": "markdown",
   "metadata": {},
   "source": [
    "### Nested Query"
   ]
  },
  {
   "cell_type": "code",
   "execution_count": null,
   "metadata": {},
   "outputs": [],
   "source": [
    "-- Find all employees who sold move than 30K to single client\n",
    "\n",
    "SELECT employee.emp_id, employee.first_name\n",
    "FROM employee\n",
    "WHERE employee.emp_id IN (\n",
    "    SELECT works_with.emp_id \n",
    "    FROM works_with\n",
    "    WHERE total_sales > 30000\n",
    ");\n",
    "\n",
    "-- Basicly 'WHERE' statement searhing inside the result table of second query.\n",
    "\n",
    "-- Find all clients who handled by branch that managed by Michael Scott\n",
    "\n",
    "SELECT works_with.emp_id, works_with.client_id, client.client_name\n",
    "FROM works_with JOIN client\n",
    "ON works_with.client_id = client.client_id\n",
    "WHERE works_with.emp_id IN (\n",
    "    SELECT employee.emp_id\n",
    "    FROM  employee\n",
    "    WHERE employee.super_id = 102\n",
    ");\n",
    "\n",
    "SELECT client.client_name\n",
    "FROM client\n",
    "WHERE client.branch_id = (\n",
    "    SELECT branch.branch_id\n",
    "    FROM branch\n",
    "    WHERE branch.mgr_id = 102\n",
    "    LIMIT 1 -- We are using '=' instead 'IN' because of that we have to be sure there is one value\n",
    "            -- Just in case Michael Sctoo managing more than 1 branch\n",
    ");\n"
   ]
  },
  {
   "attachments": {},
   "cell_type": "markdown",
   "metadata": {},
   "source": [
    "### Functions"
   ]
  },
  {
   "cell_type": "code",
   "execution_count": null,
   "metadata": {},
   "outputs": [],
   "source": [
    "-- Find the number or all employees\n",
    "\n",
    "SELECT COUNT(emp_id) FROM employee;\n",
    "\n",
    "-- Find how many Fenale employees that born after 1970\n",
    "\n",
    "SELECT COUNT(emp_id) FROM employee WHERE sex = 'F' AND birth_date > '1970-01-01';\n",
    "\n",
    "-- Find average salary of employees\n",
    "\n",
    "SELECT AVG(salary) FROM employee;\n",
    "-- Employees who make less than 100k\n",
    "SELECT AVG(salary) FROM employee WHERE salary < 100000;\n",
    "\n",
    "-- Find total salary expences of company\n",
    "\n",
    "SELECT SUM(salary) FROM employee;\n",
    "\n",
    "-- Find how many males and females there are\n",
    "\n",
    "SELECT COUNT(sex), sex FROM employee GROUP BY sex;\n",
    "\n",
    "-- Find total sales of each salesman made\n",
    "\n",
    "SELECT emp_id, SUM(total_sales) FROM works_with GROUP BY emp_id;"
   ]
  },
  {
   "attachments": {},
   "cell_type": "markdown",
   "metadata": {},
   "source": [
    "### On Delete"
   ]
  },
  {
   "cell_type": "code",
   "execution_count": null,
   "metadata": {},
   "outputs": [],
   "source": [
    "-- ON DELETE statements used for foreign keys in case of value that assocuated with that foreign key deleted\n",
    "-- SET NULL is setting that foreign key value to NULL\n",
    "-- CASCADE is deleting the rows that include that foreign key from table, this is used when the foreign key is used as/part of primary key.\n",
    "\n",
    "CREATE TABLE branch(\n",
    "    branch_id INT PRIMARY KEY,\n",
    "    branch_name VARCHAR(50),\n",
    "    mgr_id INT,\n",
    "    mgr_start_date DATE,\n",
    "    FOREIGN KEY(mgr_id) REFERENCES employee(emp_id) ON DELETE SET NULL\n",
    ");\n",
    "\n",
    "CREATE TABLE works_with(\n",
    "    emp_id INT,\n",
    "    client_id INT,\n",
    "    total_sales INT,\n",
    "    PRIMARY KEY(emp_id, client_id),\n",
    "    FOREIGN KEY(client_id) REFERENCES client(client_id) ON DELETE CASCADE,\n",
    "    FOREIGN KEY(emp_id) REFERENCES employee(emp_id) ON DELETE CASCADE\n",
    ");\n",
    "\n"
   ]
  },
  {
   "cell_type": "markdown",
   "metadata": {},
   "source": []
  },
  {
   "cell_type": "code",
   "execution_count": null,
   "metadata": {},
   "outputs": [],
   "source": []
  }
 ],
 "metadata": {
  "kernelspec": {
   "display_name": "Python 3",
   "language": "python",
   "name": "python3"
  },
  "language_info": {
   "name": "python",
   "version": "3.9.12 (v3.9.12:b28265d7e6, Mar 23 2022, 18:22:40) \n[Clang 13.0.0 (clang-1300.0.29.30)]"
  },
  "orig_nbformat": 4,
  "vscode": {
   "interpreter": {
    "hash": "aee8b7b246df8f9039afb4144a1f6fd8d2ca17a180786b69acc140d282b71a49"
   }
  }
 },
 "nbformat": 4,
 "nbformat_minor": 2
}
